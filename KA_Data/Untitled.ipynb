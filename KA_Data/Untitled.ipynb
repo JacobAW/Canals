{
 "cells": [
  {
   "cell_type": "code",
   "execution_count": 1,
   "metadata": {},
   "outputs": [],
   "source": [
    "import pandas\n",
    "import numpy as np"
   ]
  },
  {
   "cell_type": "code",
   "execution_count": 4,
   "metadata": {},
   "outputs": [
    {
     "name": "stdout",
     "output_type": "stream",
     "text": [
      "    ï»¿OBJECTID                   SAP_NAME  SAP_PLANT_NO   SAP_PLANT_NAME  \\\n",
      "0           137  Kennet & Avon Canal - 102          9800  Kennet and Avon   \n",
      "1           138  Kennet & Avon Canal - 103          9800  Kennet and Avon   \n",
      "2           139  Kennet & Avon Canal - 104          9800  Kennet and Avon   \n",
      "3           140  Kennet & Avon Canal - 105          9800  Kennet and Avon   \n",
      "4           141  Kennet & Avon Canal - 120          9800  Kennet and Avon   \n",
      "5           142  Kennet & Avon Canal - 121          9800  Kennet and Avon   \n",
      "6           143  Kennet & Avon Canal - 122          9800  Kennet and Avon   \n",
      "7           144  Kennet & Avon Canal - 123          9800  Kennet and Avon   \n",
      "8           145  Kennet & Avon Canal - 124          9800  Kennet and Avon   \n",
      "9          1112  Kennet & Avon Canal - 001          9800  Kennet and Avon   \n",
      "10         1113  Kennet & Avon Canal - 002          9800  Kennet and Avon   \n",
      "11         1114  Kennet & Avon Canal - 013          9800  Kennet and Avon   \n",
      "12         1115  Kennet & Avon Canal - 014          9800  Kennet and Avon   \n",
      "13         1116  Kennet & Avon Canal - 015          9800  Kennet and Avon   \n",
      "14         1117  Kennet & Avon Canal - 029          9800  Kennet and Avon   \n",
      "15         1118  Kennet & Avon Canal - 030          9800  Kennet and Avon   \n",
      "16         1119  Kennet & Avon Canal - 031          9800  Kennet and Avon   \n",
      "17         1125  Kennet & Avon Canal - 071          9800  Kennet and Avon   \n",
      "18         1234  Kennet & Avon Canal - 084          9800  Kennet and Avon   \n",
      "19         1235  Kennet & Avon Canal - 085          9800  Kennet and Avon   \n",
      "\n",
      "      SAP_KM_NAME SAP_CANAL_ID SAP_FUNC_LOC                       FL_DESC  \\\n",
      "0   KA Length 102           KA       KA-102  KA Kennet & Avon Canal - 102   \n",
      "1   KA Length 103           KA       KA-103  KA Kennet & Avon Canal - 103   \n",
      "2   KA Length 104           KA       KA-104  KA Kennet & Avon Canal - 104   \n",
      "3   KA Length 105           KA       KA-105  KA Kennet & Avon Canal - 105   \n",
      "4   KA Length 120           KA       KA-120  KA Kennet & Avon Canal - 120   \n",
      "5   KA Length 121           KA       KA-121  KA Kennet & Avon Canal - 121   \n",
      "6   KA Length 122           KA       KA-122  KA Kennet & Avon Canal - 122   \n",
      "7   KA Length 123           KA       KA-123  KA Kennet & Avon Canal - 123   \n",
      "8   KA Length 124           KA       KA-124  KA Kennet & Avon Canal - 124   \n",
      "9   KA Length 001           KA       KA-001  KA Kennet & Avon Canal - 001   \n",
      "10  KA Length 002           KA       KA-002  KA Kennet & Avon Canal - 002   \n",
      "11  KA Length 013           KA       KA-013  KA Kennet & Avon Canal - 013   \n",
      "12  KA Length 014           KA       KA-014  KA Kennet & Avon Canal - 014   \n",
      "13  KA Length 015           KA       KA-015  KA Kennet & Avon Canal - 015   \n",
      "14  KA Length 029           KA       KA-029  KA Kennet & Avon Canal - 029   \n",
      "15  KA Length 030           KA       KA-030  KA Kennet & Avon Canal - 030   \n",
      "16  KA Length 031           KA       KA-031  KA Kennet & Avon Canal - 031   \n",
      "17  KA Length 071           KA       KA-071  KA Kennet & Avon Canal - 071   \n",
      "18  KA Length 084           KA       KA-084  KA Kennet & Avon Canal - 084   \n",
      "19  KA Length 085           KA       KA-085  KA Kennet & Avon Canal - 085   \n",
      "\n",
      "    Shape__Length                              GlobalID  \n",
      "0        0.011760  f49cfafe-74b6-4540-8efe-8232567745b8  \n",
      "1        0.013902  0039832d-131e-488e-9fc9-a051ab574b9c  \n",
      "2        0.013955  a4cf0aba-44d9-4c0a-8466-7e09dafbecb0  \n",
      "3        0.013234  eb9d1539-305a-48f8-b7fe-59b5ec655b29  \n",
      "4        0.009498  803dcdaa-7508-4001-bf54-f524b7f346a6  \n",
      "5        0.012308  838edcd3-ff1e-4576-bcdd-52eb15132b81  \n",
      "6        0.012843  565a6bdb-739f-483f-850c-d6b213becec5  \n",
      "7        0.013168  8d61e196-97a2-4906-822e-8c8e073bffc0  \n",
      "8        0.013809  d05f9fbb-4724-4b7a-8eca-03862d0bf80a  \n",
      "9        0.011357  658c8307-cee6-43c8-9e86-5bdf3f6211f2  \n",
      "10       0.009861  c081e927-abcc-4bc2-9f03-8d77f804d8b0  \n",
      "11       0.012695  e4a15515-f57e-47a3-a831-7158faed5fb3  \n",
      "12       0.013652  68009952-cd1a-4bcc-89c8-adc134c03c62  \n",
      "13       0.009557  2108ac9d-9386-4d6f-ad6f-f4f1eb37fa03  \n",
      "14       0.014049  56c351a9-7b11-410d-8958-965e07332c7f  \n",
      "15       0.013304  10ed0f88-598a-4053-8cf8-5ea3573dd72a  \n",
      "16       0.014209  eb9d3802-c04e-4c36-a297-329bf002df74  \n",
      "17       0.013963  9af0b5d1-7374-4e3a-ba3b-99b9eafac4df  \n",
      "18       0.014063  8b872048-7886-4750-956b-4cbed0ae3d0e  \n",
      "19       0.012006  1aec8a44-f4f2-4dca-8073-80ba8c23e371  \n"
     ]
    }
   ],
   "source": [
    "data = pandas.read_csv('Canals_km_KA.csv',engine='python')\n",
    "print(data[0:20])"
   ]
  },
  {
   "cell_type": "code",
   "execution_count": null,
   "metadata": {},
   "outputs": [],
   "source": []
  }
 ],
 "metadata": {
  "kernelspec": {
   "display_name": "Python 3",
   "language": "python",
   "name": "python3"
  },
  "language_info": {
   "codemirror_mode": {
    "name": "ipython",
    "version": 3
   },
   "file_extension": ".py",
   "mimetype": "text/x-python",
   "name": "python",
   "nbconvert_exporter": "python",
   "pygments_lexer": "ipython3",
   "version": "3.7.1"
  }
 },
 "nbformat": 4,
 "nbformat_minor": 2
}
